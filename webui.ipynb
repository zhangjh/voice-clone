!pip install -q condacolab
# Setting up condacolab and installing packages
import condacolab
condacolab.install_from_url("https://repo.anaconda.com/miniconda/Miniconda3-py39_23.11.0-2-Linux-x86_64.sh")
%cd -q /content
!git clone https://github.com/RVC-Boss/GPT-SoVITS
!conda install -y -q -c pytorch -c nvidia cudatoolkit
%cd -q /content/GPT-SoVITS
!conda install -y -q -c conda-forge gcc gxx ffmpeg cmake -c pytorch -c nvidia
!/usr/local/bin/pip install -r requirements.txt